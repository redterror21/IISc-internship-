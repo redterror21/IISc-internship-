{
 "cells": [
  {
   "cell_type": "markdown",
   "id": "8ce45455-726a-4884-8579-ad14f25d834a",
   "metadata": {},
   "source": [
    "# Example 1 = Steady State Heat Equation\n",
    "In this eg we solve the following sse\n",
    "\\begin{equation}\n",
    "\\frac{\\mathrm{d}^2 T}{\\mathrm{d}x^2} = H(T-T_\\infty)\n",
    "\\end{equation}\n"
   ]
  },
  {
   "cell_type": "code",
   "execution_count": 7,
   "id": "936933d4-31f1-4639-accf-79bfef65bb7d",
   "metadata": {},
   "outputs": [],
   "source": [
    "import numpy as np\n",
    "import matplotlib.pyplot as plt"
   ]
  },
  {
   "cell_type": "code",
   "execution_count": 8,
   "id": "0c32fc04-c66b-4c65-bcb6-78b232e055eb",
   "metadata": {},
   "outputs": [
    {
     "name": "stdout",
     "output_type": "stream",
     "text": [
      "0.001\n"
     ]
    }
   ],
   "source": [
    "L = 1.0 #lenght of rod\n",
    "n= 1001\n",
    "x = np.linspace(0,L,n) #to get discrete x axis values\n",
    "dx = x[1] - x[0]\n",
    "H = 0.2\n",
    "Tleft = 200\n",
    "Tright = 300\n",
    "Tinf = 500\n",
    "\n",
    "print(dx)"
   ]
  },
  {
   "cell_type": "code",
   "execution_count": 9,
   "id": "3c01fe68-7d8f-403f-bfed-1b470e9bc395",
   "metadata": {},
   "outputs": [
    {
     "name": "stdout",
     "output_type": "stream",
     "text": [
      "[[ 1.         0.         0.        ...  0.         0.         0.       ]\n",
      " [ 1.        -2.0000002  1.        ...  0.         0.         0.       ]\n",
      " [ 0.         1.        -2.0000002 ...  0.         0.         0.       ]\n",
      " ...\n",
      " [ 0.         0.         0.        ... -2.0000002  1.         0.       ]\n",
      " [ 0.         0.         0.        ...  1.        -2.0000002  1.       ]\n",
      " [ 0.         0.         0.        ...  0.         0.         1.       ]]\n",
      "[ 2.e+02 -1.e-04 -1.e-04 ... -1.e-04 -1.e-04  3.e+02]\n"
     ]
    }
   ],
   "source": [
    "#build the diagonals\n",
    "ud = np.ones(n-1)\n",
    "ud[0]=0\n",
    "ld = np.ones(n-1)\n",
    "ld[-1]=0\n",
    "\n",
    "#main\n",
    "md = -( 2+H*dx*dx)*np.ones(n)\n",
    "md[0]=1\n",
    "md[-1]=1\n",
    "\n",
    "#full matrix\n",
    "A = np.diag(ld,-1) + np.diag(ud,1) + np.diag(md,0)\n",
    "print(A)\n",
    "\n",
    "rhs = -H*dx*dx*Tinf*np.ones(n)\n",
    "rhs[0] = Tleft\n",
    "rhs[-1] = Tright\n",
    "print(rhs)"
   ]
  },
  {
   "cell_type": "code",
   "execution_count": 10,
   "id": "5e94f868-2d40-4e0d-845c-72df8fab0461",
   "metadata": {},
   "outputs": [
    {
     "name": "stdout",
     "output_type": "stream",
     "text": [
      "[200.         200.12622264 200.25238531 ... 299.84578071 299.92291036\n",
      " 300.        ]\n"
     ]
    }
   ],
   "source": [
    "sol=np.linalg.solve(A,rhs)\n",
    "print(sol)"
   ]
  },
  {
   "cell_type": "code",
   "execution_count": 15,
   "id": "6753ebe4-d0be-4e93-817f-1120e5bcc015",
   "metadata": {},
   "outputs": [
    {
     "data": {
      "text/plain": [
       "[<matplotlib.lines.Line2D at 0x20c0ae87c20>]"
      ]
     },
     "execution_count": 15,
     "metadata": {},
     "output_type": "execute_result"
    },
    {
     "data": {
      "image/png": "[encoded data removed]",
      "text/plain": [
       "<Figure size 640x480 with 1 Axes>"
      ]
     },
     "metadata": {},
     "output_type": "display_data"
    }
   ],
   "source": [
    "plt.plot(x,sol)"
   ]
  },
  {
   "cell_type": "code",
   "execution_count": null,
   "id": "e9b42f21-61e0-4e51-a71b-4094378c5891",
   "metadata": {},
   "outputs": [],
   "source": []
  },
  {
   "cell_type": "code",
   "execution_count": null,
   "id": "ad735956-c69e-4fae-904b-15b460c481c5",
   "metadata": {},
   "outputs": [],
   "source": []
  }
 ],
 "metadata": {
  "kernelspec": {
   "display_name": "Python 3 (ipykernel)",
   "language": "python",
   "name": "python3"
  },
  "language_info": {
   "codemirror_mode": {
    "name": "ipython",
    "version": 3
   },
   "file_extension": ".py",
   "mimetype": "text/x-python",
   "name": "python",
   "nbconvert_exporter": "python",
   "pygments_lexer": "ipython3",
   "version": "3.12.7"
  }
 },
 "nbformat": 4,
 "nbformat_minor": 5
}
